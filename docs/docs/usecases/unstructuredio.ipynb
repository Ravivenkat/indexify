{
 "cells": [
  {
   "cell_type": "code",
   "execution_count": 5,
   "id": "80e4a4ca-930e-4409-94ae-4d25f4444119",
   "metadata": {},
   "outputs": [],
   "source": [
    "from indexify import IndexifyClient\n",
    "client = IndexifyClient()"
   ]
  },
  {
   "cell_type": "markdown",
   "id": "3ffc44ab-7395-4cd8-b47d-ee311fd145dc",
   "metadata": {},
   "source": [
    "### Upload pdf file"
   ]
  },
  {
   "cell_type": "code",
   "execution_count": 16,
   "id": "cf3f58f6-fc5a-43d1-8385-54aac28bc77c",
   "metadata": {},
   "outputs": [],
   "source": [
    "import requests\n",
    "import tempfile\n",
    "\n",
    "res = requests.get(\"https://extractor-files.diptanu-6d5.workers.dev/General_Billing_Guidelines_Professional.pdf\")\n",
    "with tempfile.NamedTemporaryFile(delete=True, suffix=\".pdf\") as tmpfile:\n",
    "    tmpfile.write(res.content)\n",
    "    tmpfile.flush()\n",
    "    client.upload_file(tmpfile.name)"
   ]
  },
  {
   "cell_type": "markdown",
   "id": "22c0c18a-0f6b-435c-89dd-a02ff6019454",
   "metadata": {},
   "source": [
    "### Add extraction policy"
   ]
  },
  {
   "cell_type": "code",
   "execution_count": 15,
   "id": "f0be5e58-8662-4654-8e80-ac2b244d52a9",
   "metadata": {},
   "outputs": [],
   "source": [
    "client.add_extraction_policy(extractor='tensorlake/unstructuredio', name=\"unstructuredio\")"
   ]
  }
 ],
 "metadata": {
  "kernelspec": {
   "display_name": "Python 3 (ipykernel)",
   "language": "python",
   "name": "python3"
  },
  "language_info": {
   "codemirror_mode": {
    "name": "ipython",
    "version": 3
   },
   "file_extension": ".py",
   "mimetype": "text/x-python",
   "name": "python",
   "nbconvert_exporter": "python",
   "pygments_lexer": "ipython3",
   "version": "3.11.8"
  }
 },
 "nbformat": 4,
 "nbformat_minor": 5
}
